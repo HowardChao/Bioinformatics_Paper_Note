{
 "cells": [
  {
   "cell_type": "markdown",
   "metadata": {},
   "source": [
    "# R package related note"
   ]
  },
  {
   "cell_type": "markdown",
   "metadata": {},
   "source": [
    "## About the environment of the package"
   ]
  },
  {
   "cell_type": "markdown",
   "metadata": {},
   "source": [
    "* **Don't use** `library()` `require()` \n",
    "==> because they modified the search path\n",
    "\n",
    "    **Soluction:** use `DESCRIPTION` to specify the package's requirement. (These package will be installed once your package is installed)"
   ]
  },
  {
   "cell_type": "markdown",
   "metadata": {},
   "source": [
    "* **Never use** `source()` ==> because it modified the current environment\n",
    "    \n",
    "    **Solution:** rely on `devtools::load_all()` ==> automatically source all the files."
   ]
  },
  {
   "cell_type": "markdown",
   "metadata": {},
   "source": [
    "* **Use with caution** REMEMBER TO on.exit() to clean up after you use them\n",
    "\n",
    "    1. If you modify `options()` or graphic `par()`\n",
    "    \n",
    "    **example:** \n",
    "    \n",
    "    ```\n",
    "    old <- options(stringAsFactor = FALSE)\n",
    "    on.exit(options(old), add = TRUE)\n",
    "    ```\n",
    "    \n",
    "    2. Change the directory back after changin it.\n",
    "    \n",
    "    **example:**\n",
    "    \n",
    "    ```\n",
    "    old <- setwd(tempdir())\n",
    "    on.exit(setwd(old), add = TRUE)\n",
    "    ```\n",
    "    \n",
    "    3. **Creating plot** and **printing output to the console** are two other ways to affect the global R environment. Isolate them in functions that only produce output!"
   ]
  },
  {
   "cell_type": "markdown",
   "metadata": {},
   "source": [
    "## About package install"
   ]
  },
  {
   "cell_type": "markdown",
   "metadata": {},
   "source": [
    "* Imports: listed must be present for your package to work. But not mean is loaded!!"
   ]
  },
  {
   "cell_type": "markdown",
   "metadata": {},
   "source": [
    "## Document workflow"
   ]
  },
  {
   "cell_type": "markdown",
   "metadata": {},
   "source": [
    "1. Add roxygen2 comment to your .R files\n",
    "2. Run `devtools::document()` to convert roxygen comments to .Rd files\n",
    "3. Preview documentation w `?`\n",
    "\n",
    "### Roxygen comments !! \n",
    "\n",
    "* content: the end of the tag name to the next tag!!\n",
    "* each block includes some text before the first tag. ==> `introduction`\n",
    "    * first sentence ==> title\n",
    "    * second paragraph ==> description !!\n",
    "    * third paragraph ==> details !!\n",
    "    \n",
    "    example:\n",
    "    * `@section` ==> break long section into several small ones\n",
    "    * `@seealso` ==> allows you to point to other useful resources. like `\\url{http://.....}`, `\\code{\\link[packagename]{functions}}`"
   ]
  },
  {
   "cell_type": "code",
   "execution_count": null,
   "metadata": {},
   "outputs": [],
   "source": []
  }
 ],
 "metadata": {
  "kernelspec": {
   "display_name": "Python 3",
   "language": "python",
   "name": "python3"
  },
  "language_info": {
   "codemirror_mode": {
    "name": "ipython",
    "version": 3
   },
   "file_extension": ".py",
   "mimetype": "text/x-python",
   "name": "python",
   "nbconvert_exporter": "python",
   "pygments_lexer": "ipython3",
   "version": "3.6.3"
  }
 },
 "nbformat": 4,
 "nbformat_minor": 2
}
